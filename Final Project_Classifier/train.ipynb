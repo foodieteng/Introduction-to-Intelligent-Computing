{
 "cells": [
  {
   "cell_type": "code",
   "execution_count": 1,
   "id": "6a961871",
   "metadata": {
    "execution": {
     "iopub.execute_input": "2022-01-04T16:16:44.833867Z",
     "iopub.status.busy": "2022-01-04T16:16:44.832334Z",
     "iopub.status.idle": "2022-01-04T16:17:04.779695Z",
     "shell.execute_reply": "2022-01-04T16:17:04.778913Z",
     "shell.execute_reply.started": "2022-01-04T15:23:05.384818Z"
    },
    "papermill": {
     "duration": 19.962791,
     "end_time": "2022-01-04T16:17:04.779899",
     "exception": false,
     "start_time": "2022-01-04T16:16:44.817108",
     "status": "completed"
    },
    "tags": []
   },
   "outputs": [
    {
     "name": "stdout",
     "output_type": "stream",
     "text": [
      "\u001b[33mWARNING: Running pip as the 'root' user can result in broken permissions and conflicting behaviour with the system package manager. It is recommended to use a virtual environment instead: https://pip.pypa.io/warnings/venv\u001b[0m\r\n",
      "Cloning into 'efficientnet'...\r\n",
      "remote: Enumerating objects: 310, done.\u001b[K\r\n",
      "remote: Counting objects: 100% (5/5), done.\u001b[K\r\n",
      "remote: Compressing objects: 100% (5/5), done.\u001b[K\r\n",
      "remote: Total 310 (delta 1), reused 0 (delta 0), pack-reused 305\u001b[K\r\n",
      "Receiving objects: 100% (310/310), 835.11 KiB | 14.91 MiB/s, done.\r\n",
      "Resolving deltas: 100% (175/175), done.\r\n",
      "Collecting console_progressbar\r\n",
      "  Downloading console_progressbar-1.1.2.tar.gz (3.6 kB)\r\n",
      "  Preparing metadata (setup.py) ... \u001b[?25l-\b \bdone\r\n",
      "\u001b[?25hBuilding wheels for collected packages: console-progressbar\r\n",
      "  Building wheel for console-progressbar (setup.py) ... \u001b[?25l-\b \b\\\b \b|\b \bdone\r\n",
      "\u001b[?25h  Created wheel for console-progressbar: filename=console_progressbar-1.1.2-py3-none-any.whl size=4157 sha256=ff91696441917d4ab31097436fa021f250b0ae7172d93c23d87497b397b9f2bf\r\n",
      "  Stored in directory: /root/.cache/pip/wheels/2b/5f/7d/97976c8b046302df5781c0cbb18fd04b9d58467edae9942bfa\r\n",
      "Successfully built console-progressbar\r\n",
      "Installing collected packages: console-progressbar\r\n",
      "Successfully installed console-progressbar-1.1.2\r\n",
      "\u001b[33mWARNING: Running pip as the 'root' user can result in broken permissions and conflicting behaviour with the system package manager. It is recommended to use a virtual environment instead: https://pip.pypa.io/warnings/venv\u001b[0m\r\n"
     ]
    }
   ],
   "source": [
    "!pip install albumentations > /dev/null\n",
    "!git clone https://github.com/qubvel/efficientnet.git\n",
    "!pip install console_progressbar"
   ]
  },
  {
   "cell_type": "code",
   "execution_count": 2,
   "id": "6c66b6ab",
   "metadata": {
    "execution": {
     "iopub.execute_input": "2022-01-04T16:17:04.816520Z",
     "iopub.status.busy": "2022-01-04T16:17:04.815971Z",
     "iopub.status.idle": "2022-01-04T16:17:05.108538Z",
     "shell.execute_reply": "2022-01-04T16:17:05.107994Z",
     "shell.execute_reply.started": "2022-01-04T15:23:22.445958Z"
    },
    "papermill": {
     "duration": 0.311677,
     "end_time": "2022-01-04T16:17:05.108658",
     "exception": false,
     "start_time": "2022-01-04T16:17:04.796981",
     "status": "completed"
    },
    "tags": []
   },
   "outputs": [],
   "source": [
    "import tarfile\n",
    "import scipy.io\n",
    "import numpy as np\n",
    "import os\n",
    "import cv2 as cv\n",
    "import shutil\n",
    "import random\n",
    "from console_progressbar import ProgressBar"
   ]
  },
  {
   "cell_type": "code",
   "execution_count": 3,
   "id": "30ded9df",
   "metadata": {
    "execution": {
     "iopub.execute_input": "2022-01-04T16:17:05.142022Z",
     "iopub.status.busy": "2022-01-04T16:17:05.141348Z",
     "iopub.status.idle": "2022-01-04T16:17:05.144168Z",
     "shell.execute_reply": "2022-01-04T16:17:05.143757Z",
     "shell.execute_reply.started": "2022-01-04T15:23:22.836051Z"
    },
    "papermill": {
     "duration": 0.021139,
     "end_time": "2022-01-04T16:17:05.144272",
     "exception": false,
     "start_time": "2022-01-04T16:17:05.123133",
     "status": "completed"
    },
    "tags": []
   },
   "outputs": [],
   "source": [
    "img_width, img_height = 299, 299\n",
    "\n",
    "def ensure_folder(folder):\n",
    "    if not os.path.exists(folder):\n",
    "        os.makedirs(folder)"
   ]
  },
  {
   "cell_type": "code",
   "execution_count": 4,
   "id": "70e03e78",
   "metadata": {
    "execution": {
     "iopub.execute_input": "2022-01-04T16:17:05.176971Z",
     "iopub.status.busy": "2022-01-04T16:17:05.176301Z",
     "iopub.status.idle": "2022-01-04T16:17:05.187437Z",
     "shell.execute_reply": "2022-01-04T16:17:05.188072Z",
     "shell.execute_reply.started": "2022-01-04T15:23:22.843604Z"
    },
    "papermill": {
     "duration": 0.029809,
     "end_time": "2022-01-04T16:17:05.188228",
     "exception": false,
     "start_time": "2022-01-04T16:17:05.158419",
     "status": "completed"
    },
    "tags": []
   },
   "outputs": [
    {
     "name": "stdout",
     "output_type": "stream",
     "text": [
      "class_names.shape: (196, 1)\n",
      "Sample class_name: [Aston Martin V8 Vantage Coupe 2012]\n"
     ]
    }
   ],
   "source": [
    "cars_meta = scipy.io.loadmat('../input/matfile/devkit/cars_meta.mat')\n",
    "class_names = cars_meta['class_names']  # shape=(1, 196)\n",
    "class_names = np.transpose(class_names)\n",
    "print('class_names.shape: ' + str(class_names.shape))\n",
    "print('Sample class_name: [{}]'.format(class_names[8][0][0]))"
   ]
  },
  {
   "cell_type": "code",
   "execution_count": 5,
   "id": "bc6aa901",
   "metadata": {
    "execution": {
     "iopub.execute_input": "2022-01-04T16:17:05.221699Z",
     "iopub.status.busy": "2022-01-04T16:17:05.220937Z",
     "iopub.status.idle": "2022-01-04T16:17:10.569920Z",
     "shell.execute_reply": "2022-01-04T16:17:10.570453Z",
     "shell.execute_reply.started": "2022-01-04T15:23:22.874222Z"
    },
    "papermill": {
     "duration": 5.366608,
     "end_time": "2022-01-04T16:17:10.570617",
     "exception": false,
     "start_time": "2022-01-04T16:17:05.204009",
     "status": "completed"
    },
    "tags": []
   },
   "outputs": [],
   "source": [
    "import os\n",
    "import sys\n",
    "import numpy as np\n",
    "from skimage.io import imread\n",
    "import matplotlib.pyplot as plt\n",
    "import numpy as np\n",
    "import keras\n",
    "import pandas as pd\n",
    "from PIL import Image\n",
    "import cv2\n",
    "\n",
    "from tensorflow.keras.applications.resnet50 import preprocess_input\n",
    "from keras.preprocessing.image import ImageDataGenerator\n",
    "\n",
    "from keras.applications.imagenet_utils import decode_predictions\n",
    "from tensorflow.keras.applications import EfficientNetB0, EfficientNetB3\n",
    "from tensorflow.keras.optimizers import SGD, Adam\n",
    "from keras.layers.pooling import MaxPooling2D,AveragePooling2D"
   ]
  },
  {
   "cell_type": "code",
   "execution_count": 6,
   "id": "ba15ea57",
   "metadata": {
    "execution": {
     "iopub.execute_input": "2022-01-04T16:17:10.607184Z",
     "iopub.status.busy": "2022-01-04T16:17:10.606478Z",
     "iopub.status.idle": "2022-01-04T16:17:10.608608Z",
     "shell.execute_reply": "2022-01-04T16:17:10.609016Z",
     "shell.execute_reply.started": "2022-01-04T15:23:27.836909Z"
    },
    "papermill": {
     "duration": 0.023604,
     "end_time": "2022-01-04T16:17:10.609142",
     "exception": false,
     "start_time": "2022-01-04T16:17:10.585538",
     "status": "completed"
    },
    "tags": []
   },
   "outputs": [],
   "source": [
    "def plot_loss_acc(history):\n",
    "    plt.figure(figsize=(20,7))\n",
    "    plt.subplot(1,2,1)\n",
    "    plt.plot(history.history['loss'][1:])    \n",
    "    plt.plot(history.history['val_loss'][1:])    \n",
    "    plt.title('model loss')    \n",
    "    plt.ylabel('val_loss')    \n",
    "    plt.xlabel('epoch')    \n",
    "    plt.legend(['Train','Validation'], loc='upper left')\n",
    "    \n",
    "    plt.subplot(1,2,2)\n",
    "    plt.plot(history.history['accuracy'][1:])\n",
    "    plt.plot(history.history['val_accuracy'][1:])\n",
    "    plt.title('Model Accuracy')\n",
    "    plt.ylabel('val_acc')\n",
    "    plt.xlabel('epoch')\n",
    "    plt.legend(['Train','Validation'], loc='upper left')\n",
    "    plt.show()"
   ]
  },
  {
   "cell_type": "code",
   "execution_count": 7,
   "id": "7c86acaf",
   "metadata": {
    "execution": {
     "iopub.execute_input": "2022-01-04T16:17:10.650327Z",
     "iopub.status.busy": "2022-01-04T16:17:10.649648Z",
     "iopub.status.idle": "2022-01-04T16:17:10.651927Z",
     "shell.execute_reply": "2022-01-04T16:17:10.652304Z",
     "shell.execute_reply.started": "2022-01-04T15:23:27.845728Z"
    },
    "papermill": {
     "duration": 0.028347,
     "end_time": "2022-01-04T16:17:10.652420",
     "exception": false,
     "start_time": "2022-01-04T16:17:10.624073",
     "status": "completed"
    },
    "tags": []
   },
   "outputs": [],
   "source": [
    "class SnapshotCallbackBuilder:\n",
    "    def __init__(self, nb_epochs, nb_snapshots, init_lr=0.1):\n",
    "        self.T = nb_epochs\n",
    "        self.M = nb_snapshots\n",
    "        self.alpha_zero = init_lr\n",
    "\n",
    "    def get_callbacks(self, model_prefix='Model'):\n",
    "\n",
    "        callback_list = [\n",
    "#             callbacks.ModelCheckpoint(\"./keras.model\",monitor='val_loss', \n",
    "#                                    mode = 'min', save_best_only=True, verbose=1),\n",
    "            swa,\n",
    "            callbacks.LearningRateScheduler(schedule=self._cosine_anneal_schedule)\n",
    "        ]\n",
    "\n",
    "        return callback_list\n",
    "\n",
    "    def _cosine_anneal_schedule(self, t):\n",
    "        cos_inner = np.pi * (t % (self.T // self.M))  # t - 1 is used when t has 1-based indexing.\n",
    "        cos_inner /= self.T // self.M\n",
    "        cos_out = np.cos(cos_inner) + 1\n",
    "        return float(self.alpha_zero / 2 * cos_out)\n",
    "\n",
    "import keras.callbacks as callbacks\n",
    "\n",
    "class SWA(keras.callbacks.Callback):\n",
    "    \n",
    "    def __init__(self, filepath, swa_epoch):\n",
    "        super(SWA, self).__init__()\n",
    "        self.filepath = filepath\n",
    "        self.swa_epoch = swa_epoch \n",
    "    \n",
    "    def on_train_begin(self, logs=None):\n",
    "        self.nb_epoch = self.params['epochs']\n",
    "        print('Stochastic weight averaging selected for last {} epochs.'\n",
    "              .format(self.nb_epoch - self.swa_epoch))\n",
    "        \n",
    "    def on_epoch_end(self, epoch, logs=None):\n",
    "        \n",
    "        if epoch == self.swa_epoch:\n",
    "            self.swa_weights = self.model.get_weights()\n",
    "            \n",
    "        elif epoch > self.swa_epoch:    \n",
    "            for i in range(len(self.swa_weights)):\n",
    "                self.swa_weights[i] = (self.swa_weights[i] * \n",
    "                    (epoch - self.swa_epoch) + self.model.get_weights()[i])/((epoch - self.swa_epoch)  + 1)  \n",
    "\n",
    "        else:\n",
    "            pass\n",
    "        \n",
    "    def on_train_end(self, logs=None):\n",
    "        self.model.set_weights(self.swa_weights)\n",
    "        print('Final model parameters set to stochastic weight average.')\n",
    "        self.model.save_weights(self.filepath)\n",
    "        print('Final stochastic averaged weights saved to file.')"
   ]
  },
  {
   "cell_type": "code",
   "execution_count": 8,
   "id": "394d8310",
   "metadata": {
    "execution": {
     "iopub.execute_input": "2022-01-04T16:17:10.687413Z",
     "iopub.status.busy": "2022-01-04T16:17:10.686780Z",
     "iopub.status.idle": "2022-01-04T16:17:12.076470Z",
     "shell.execute_reply": "2022-01-04T16:17:12.075965Z",
     "shell.execute_reply.started": "2022-01-04T15:23:27.869505Z"
    },
    "papermill": {
     "duration": 1.409502,
     "end_time": "2022-01-04T16:17:12.076606",
     "exception": false,
     "start_time": "2022-01-04T16:17:10.667104",
     "status": "completed"
    },
    "tags": []
   },
   "outputs": [
    {
     "name": "stdout",
     "output_type": "stream",
     "text": [
      "Found 7804 images belonging to 196 classes.\n",
      "Found 2918 images belonging to 196 classes.\n"
     ]
    }
   ],
   "source": [
    "train_datagen = ImageDataGenerator(\n",
    "        rescale=1./255,\n",
    "        shear_range=0.2,\n",
    "        rotation_range=20.,\n",
    "        width_shift_range=0.1,\n",
    "        height_shift_range=0.1,\n",
    "        zoom_range=[0.9, 1.25],\n",
    "        brightness_range=[0.5, 1.5],\n",
    "        horizontal_flip=True)\n",
    "\n",
    "test_datagen = ImageDataGenerator(rescale=1./255)\n",
    "\n",
    "train_generator = train_datagen.flow_from_directory(\n",
    "        '../input/aiproject/train/train',\n",
    "        target_size=(299, 299),\n",
    "        batch_size=32,\n",
    "        class_mode='categorical')\n",
    "\n",
    "validation_generator = test_datagen.flow_from_directory(\n",
    "        '../input/aiproject/valid/valid',\n",
    "        target_size=(299, 299),\n",
    "        batch_size=32,\n",
    "        class_mode='categorical')"
   ]
  },
  {
   "cell_type": "code",
   "execution_count": 9,
   "id": "c9f3a4b1",
   "metadata": {
    "execution": {
     "iopub.execute_input": "2022-01-04T16:17:12.115498Z",
     "iopub.status.busy": "2022-01-04T16:17:12.114726Z",
     "iopub.status.idle": "2022-01-04T16:17:12.116956Z",
     "shell.execute_reply": "2022-01-04T16:17:12.117332Z",
     "shell.execute_reply.started": "2022-01-04T15:23:29.263743Z"
    },
    "papermill": {
     "duration": 0.023511,
     "end_time": "2022-01-04T16:17:12.117471",
     "exception": false,
     "start_time": "2022-01-04T16:17:12.093960",
     "status": "completed"
    },
    "tags": []
   },
   "outputs": [],
   "source": [
    "from keras.layers import Dense, Activation, Flatten, Dropout\n",
    "from keras.models import Sequential, Model\n",
    "\n",
    "def build_finetune_model(base_model, dropout, num_classes):\n",
    "\n",
    "    x = base_model.output\n",
    "    \n",
    "    x = AveragePooling2D((5, 5), name='avg_pool')(x)\n",
    "    x = Flatten()(x)\n",
    "#     x = Dropout(0.25)(x)\n",
    "#     x = Dense(512,activation='relu')(x)\n",
    "    x = Dropout(dropout)(x)\n",
    "    predictions = Dense(num_classes, activation='softmax', name='finalfc')(x)\n",
    "    \n",
    "    finetune_model = Model(inputs=base_model.input, outputs=predictions)\n",
    "\n",
    "    return finetune_model"
   ]
  },
  {
   "cell_type": "code",
   "execution_count": 10,
   "id": "cae6d82d",
   "metadata": {
    "execution": {
     "iopub.execute_input": "2022-01-04T16:17:12.164368Z",
     "iopub.status.busy": "2022-01-04T16:17:12.163512Z",
     "iopub.status.idle": "2022-01-04T21:26:03.078633Z",
     "shell.execute_reply": "2022-01-04T21:26:03.078151Z",
     "shell.execute_reply.started": "2022-01-04T15:23:29.274467Z"
    },
    "papermill": {
     "duration": 18530.943027,
     "end_time": "2022-01-04T21:26:03.078767",
     "exception": false,
     "start_time": "2022-01-04T16:17:12.135740",
     "status": "completed"
    },
    "tags": []
   },
   "outputs": [
    {
     "name": "stderr",
     "output_type": "stream",
     "text": [
      "2022-01-04 16:17:12.257103: I tensorflow/stream_executor/cuda/cuda_gpu_executor.cc:937] successful NUMA node read from SysFS had negative value (-1), but there must be at least one NUMA node, so returning NUMA node zero\n",
      "2022-01-04 16:17:12.348173: I tensorflow/stream_executor/cuda/cuda_gpu_executor.cc:937] successful NUMA node read from SysFS had negative value (-1), but there must be at least one NUMA node, so returning NUMA node zero\n",
      "2022-01-04 16:17:12.348919: I tensorflow/stream_executor/cuda/cuda_gpu_executor.cc:937] successful NUMA node read from SysFS had negative value (-1), but there must be at least one NUMA node, so returning NUMA node zero\n",
      "2022-01-04 16:17:12.350103: I tensorflow/core/platform/cpu_feature_guard.cc:142] This TensorFlow binary is optimized with oneAPI Deep Neural Network Library (oneDNN) to use the following CPU instructions in performance-critical operations:  AVX2 AVX512F FMA\n",
      "To enable them in other operations, rebuild TensorFlow with the appropriate compiler flags.\n",
      "2022-01-04 16:17:12.351231: I tensorflow/stream_executor/cuda/cuda_gpu_executor.cc:937] successful NUMA node read from SysFS had negative value (-1), but there must be at least one NUMA node, so returning NUMA node zero\n",
      "2022-01-04 16:17:12.351939: I tensorflow/stream_executor/cuda/cuda_gpu_executor.cc:937] successful NUMA node read from SysFS had negative value (-1), but there must be at least one NUMA node, so returning NUMA node zero\n",
      "2022-01-04 16:17:12.352562: I tensorflow/stream_executor/cuda/cuda_gpu_executor.cc:937] successful NUMA node read from SysFS had negative value (-1), but there must be at least one NUMA node, so returning NUMA node zero\n",
      "2022-01-04 16:17:14.227245: I tensorflow/stream_executor/cuda/cuda_gpu_executor.cc:937] successful NUMA node read from SysFS had negative value (-1), but there must be at least one NUMA node, so returning NUMA node zero\n",
      "2022-01-04 16:17:14.228337: I tensorflow/stream_executor/cuda/cuda_gpu_executor.cc:937] successful NUMA node read from SysFS had negative value (-1), but there must be at least one NUMA node, so returning NUMA node zero\n",
      "2022-01-04 16:17:14.229307: I tensorflow/stream_executor/cuda/cuda_gpu_executor.cc:937] successful NUMA node read from SysFS had negative value (-1), but there must be at least one NUMA node, so returning NUMA node zero\n",
      "2022-01-04 16:17:14.229901: I tensorflow/core/common_runtime/gpu/gpu_device.cc:1510] Created device /job:localhost/replica:0/task:0/device:GPU:0 with 15403 MB memory:  -> device: 0, name: Tesla P100-PCIE-16GB, pci bus id: 0000:00:04.0, compute capability: 6.0\n"
     ]
    },
    {
     "name": "stdout",
     "output_type": "stream",
     "text": [
      "Downloading data from https://storage.googleapis.com/keras-applications/efficientnetb0_notop.h5\n",
      "16711680/16705208 [==============================] - 0s 0us/step\n",
      "16719872/16705208 [==============================] - 0s 0us/step\n",
      "Stochastic weight averaging selected for last 3 epochs.\n",
      "Epoch 1/81\n"
     ]
    },
    {
     "name": "stderr",
     "output_type": "stream",
     "text": [
      "2022-01-04 16:17:17.449795: I tensorflow/compiler/mlir/mlir_graph_optimization_pass.cc:185] None of the MLIR Optimization Passes are enabled (registered 2)\n",
      "2022-01-04 16:17:26.250729: I tensorflow/stream_executor/cuda/cuda_dnn.cc:369] Loaded cuDNN version 8005\n"
     ]
    },
    {
     "name": "stdout",
     "output_type": "stream",
     "text": [
      "205/205 [==============================] - 227s 1s/step - loss: 5.3593 - accuracy: 0.0133 - val_loss: 5.6201 - val_accuracy: 0.0060\n",
      "Epoch 2/81\n",
      "205/205 [==============================] - 199s 970ms/step - loss: 4.5697 - accuracy: 0.0689 - val_loss: 6.3105 - val_accuracy: 0.0048\n",
      "Epoch 3/81\n",
      "205/205 [==============================] - 202s 985ms/step - loss: 3.5280 - accuracy: 0.1882 - val_loss: 4.6624 - val_accuracy: 0.0745\n",
      "Epoch 4/81\n",
      "205/205 [==============================] - 203s 989ms/step - loss: 2.6239 - accuracy: 0.3350 - val_loss: 6.2916 - val_accuracy: 0.0048\n",
      "Epoch 5/81\n",
      "205/205 [==============================] - 201s 980ms/step - loss: 1.9563 - accuracy: 0.4738 - val_loss: 5.9550 - val_accuracy: 0.0042\n",
      "Epoch 6/81\n",
      "205/205 [==============================] - 206s 1s/step - loss: 1.5301 - accuracy: 0.5828 - val_loss: 6.0988 - val_accuracy: 0.0024\n",
      "Epoch 7/81\n",
      "205/205 [==============================] - 204s 993ms/step - loss: 1.2337 - accuracy: 0.6498 - val_loss: 5.9701 - val_accuracy: 0.0138\n",
      "Epoch 8/81\n",
      "205/205 [==============================] - 203s 990ms/step - loss: 1.0291 - accuracy: 0.7026 - val_loss: 6.7056 - val_accuracy: 0.0042\n",
      "Epoch 9/81\n",
      "205/205 [==============================] - 204s 997ms/step - loss: 0.8987 - accuracy: 0.7401 - val_loss: 6.4180 - val_accuracy: 0.0042\n",
      "Epoch 10/81\n",
      "205/205 [==============================] - 210s 1s/step - loss: 0.7741 - accuracy: 0.7762 - val_loss: 7.3365 - val_accuracy: 0.0102\n",
      "Epoch 11/81\n",
      "205/205 [==============================] - 202s 982ms/step - loss: 0.6766 - accuracy: 0.7991 - val_loss: 9.3118 - val_accuracy: 0.0126\n",
      "Epoch 12/81\n",
      "205/205 [==============================] - 211s 1s/step - loss: 0.6004 - accuracy: 0.8175 - val_loss: 4.1212 - val_accuracy: 0.1881\n",
      "Epoch 13/81\n",
      "205/205 [==============================] - 203s 990ms/step - loss: 0.5200 - accuracy: 0.8415 - val_loss: 6.4326 - val_accuracy: 0.0282\n",
      "Epoch 14/81\n",
      "205/205 [==============================] - 205s 998ms/step - loss: 0.4660 - accuracy: 0.8602 - val_loss: 6.8208 - val_accuracy: 0.0102\n",
      "Epoch 15/81\n",
      "205/205 [==============================] - 206s 1s/step - loss: 0.4458 - accuracy: 0.8624 - val_loss: 6.6802 - val_accuracy: 0.0096\n",
      "Epoch 16/81\n",
      "205/205 [==============================] - 202s 979ms/step - loss: 0.4371 - accuracy: 0.8699 - val_loss: 7.9681 - val_accuracy: 0.0030\n",
      "Epoch 17/81\n",
      "205/205 [==============================] - 207s 1s/step - loss: 0.3844 - accuracy: 0.8833 - val_loss: 8.1235 - val_accuracy: 0.0084\n",
      "Epoch 18/81\n",
      "205/205 [==============================] - 205s 1s/step - loss: 0.3687 - accuracy: 0.8866 - val_loss: 6.7374 - val_accuracy: 0.0090\n",
      "Epoch 19/81\n",
      "205/205 [==============================] - 206s 1s/step - loss: 0.3388 - accuracy: 0.8972 - val_loss: 4.9376 - val_accuracy: 0.2338\n",
      "Epoch 20/81\n",
      "205/205 [==============================] - 206s 1s/step - loss: 0.3147 - accuracy: 0.9060 - val_loss: 5.4599 - val_accuracy: 0.1046\n",
      "Epoch 21/81\n",
      "205/205 [==============================] - 202s 987ms/step - loss: 0.2509 - accuracy: 0.9246 - val_loss: 7.2586 - val_accuracy: 0.0012\n",
      "Epoch 22/81\n",
      "205/205 [==============================] - 199s 967ms/step - loss: 0.2849 - accuracy: 0.9146 - val_loss: 6.6778 - val_accuracy: 0.0264\n",
      "Epoch 23/81\n",
      "205/205 [==============================] - 203s 986ms/step - loss: 0.2579 - accuracy: 0.9152 - val_loss: 6.2707 - val_accuracy: 0.0613\n",
      "Epoch 24/81\n",
      "205/205 [==============================] - 206s 1s/step - loss: 0.2574 - accuracy: 0.9187 - val_loss: 8.7110 - val_accuracy: 0.0078\n",
      "Epoch 25/81\n",
      "205/205 [==============================] - 210s 1s/step - loss: 0.2606 - accuracy: 0.9237 - val_loss: 2.2906 - val_accuracy: 0.5234\n",
      "Epoch 26/81\n",
      "205/205 [==============================] - 203s 988ms/step - loss: 0.2018 - accuracy: 0.9344 - val_loss: 9.5797 - val_accuracy: 0.0523\n",
      "Epoch 27/81\n",
      "205/205 [==============================] - 204s 995ms/step - loss: 0.2361 - accuracy: 0.9240 - val_loss: 3.7858 - val_accuracy: 0.3107\n",
      "Epoch 28/81\n",
      "205/205 [==============================] - 204s 994ms/step - loss: 0.1964 - accuracy: 0.9410 - val_loss: 10.3524 - val_accuracy: 0.0060\n",
      "Epoch 29/81\n",
      "205/205 [==============================] - 200s 969ms/step - loss: 0.1943 - accuracy: 0.9413 - val_loss: 5.6486 - val_accuracy: 0.1256\n",
      "Epoch 30/81\n",
      "205/205 [==============================] - 201s 979ms/step - loss: 0.1794 - accuracy: 0.9465 - val_loss: 7.9313 - val_accuracy: 0.0084\n",
      "Epoch 31/81\n",
      "205/205 [==============================] - 201s 977ms/step - loss: 0.1560 - accuracy: 0.9532 - val_loss: 7.4056 - val_accuracy: 0.0060\n",
      "Epoch 32/81\n",
      "205/205 [==============================] - 200s 974ms/step - loss: 0.1506 - accuracy: 0.9524 - val_loss: 13.8280 - val_accuracy: 0.0042\n",
      "Epoch 33/81\n",
      "205/205 [==============================] - 204s 993ms/step - loss: 0.1462 - accuracy: 0.9532 - val_loss: 11.6777 - val_accuracy: 0.0042\n",
      "Epoch 34/81\n",
      "205/205 [==============================] - 204s 990ms/step - loss: 0.1469 - accuracy: 0.9558 - val_loss: 8.4985 - val_accuracy: 0.0036\n",
      "Epoch 35/81\n",
      "205/205 [==============================] - 201s 980ms/step - loss: 0.1359 - accuracy: 0.9587 - val_loss: 8.7445 - val_accuracy: 0.0054\n",
      "Epoch 36/81\n",
      "205/205 [==============================] - 205s 1s/step - loss: 0.1303 - accuracy: 0.9619 - val_loss: 14.3522 - val_accuracy: 0.0084\n",
      "Epoch 37/81\n",
      "205/205 [==============================] - 205s 995ms/step - loss: 0.1203 - accuracy: 0.9620 - val_loss: 6.3952 - val_accuracy: 0.0895\n",
      "Epoch 38/81\n",
      "205/205 [==============================] - 205s 999ms/step - loss: 0.1162 - accuracy: 0.9648 - val_loss: 0.8585 - val_accuracy: 0.7927\n",
      "Epoch 39/81\n",
      "205/205 [==============================] - 204s 989ms/step - loss: 0.1012 - accuracy: 0.9678 - val_loss: 6.2298 - val_accuracy: 0.0895\n",
      "Epoch 40/81\n",
      "205/205 [==============================] - 206s 1s/step - loss: 0.1067 - accuracy: 0.9663 - val_loss: 9.4207 - val_accuracy: 0.0048\n",
      "Epoch 41/81\n",
      "205/205 [==============================] - 209s 1s/step - loss: 0.0824 - accuracy: 0.9745 - val_loss: 10.1730 - val_accuracy: 0.0078\n",
      "Epoch 42/81\n",
      "205/205 [==============================] - 210s 1s/step - loss: 0.0669 - accuracy: 0.9794 - val_loss: 8.4758 - val_accuracy: 0.0060\n",
      "Epoch 43/81\n",
      "205/205 [==============================] - 207s 1s/step - loss: 0.0751 - accuracy: 0.9770 - val_loss: 9.2533 - val_accuracy: 0.0018\n",
      "Epoch 44/81\n",
      "205/205 [==============================] - 210s 1s/step - loss: 0.0909 - accuracy: 0.9747 - val_loss: 10.3960 - val_accuracy: 0.0204\n",
      "Epoch 45/81\n",
      "205/205 [==============================] - 210s 1s/step - loss: 0.0686 - accuracy: 0.9788 - val_loss: 8.2084 - val_accuracy: 0.0427\n",
      "Epoch 46/81\n",
      "205/205 [==============================] - 214s 1s/step - loss: 0.0754 - accuracy: 0.9776 - val_loss: 8.5213 - val_accuracy: 0.0066\n",
      "Epoch 47/81\n",
      "205/205 [==============================] - 211s 1s/step - loss: 0.0662 - accuracy: 0.9808 - val_loss: 7.9299 - val_accuracy: 0.0036\n",
      "Epoch 48/81\n",
      "205/205 [==============================] - 211s 1s/step - loss: 0.0584 - accuracy: 0.9818 - val_loss: 5.3598 - val_accuracy: 0.2025\n",
      "Epoch 49/81\n",
      "205/205 [==============================] - 209s 1s/step - loss: 0.0457 - accuracy: 0.9847 - val_loss: 5.7214 - val_accuracy: 0.1959\n",
      "Epoch 50/81\n",
      "205/205 [==============================] - 211s 1s/step - loss: 0.0501 - accuracy: 0.9829 - val_loss: 6.1989 - val_accuracy: 0.1328\n",
      "Epoch 51/81\n",
      "205/205 [==============================] - 208s 1s/step - loss: 0.0473 - accuracy: 0.9847 - val_loss: 7.1851 - val_accuracy: 0.0619\n",
      "Epoch 52/81\n",
      "205/205 [==============================] - 209s 1s/step - loss: 0.0385 - accuracy: 0.9878 - val_loss: 9.1665 - val_accuracy: 0.0090\n",
      "Epoch 53/81\n",
      "205/205 [==============================] - 210s 1s/step - loss: 0.0437 - accuracy: 0.9881 - val_loss: 4.9076 - val_accuracy: 0.2260\n",
      "Epoch 54/81\n",
      "205/205 [==============================] - 212s 1s/step - loss: 0.0402 - accuracy: 0.9879 - val_loss: 7.9204 - val_accuracy: 0.1743\n",
      "Epoch 55/81\n",
      "205/205 [==============================] - 211s 1s/step - loss: 0.0382 - accuracy: 0.9886 - val_loss: 9.0377 - val_accuracy: 0.0697\n",
      "Epoch 56/81\n",
      "205/205 [==============================] - 211s 1s/step - loss: 0.0425 - accuracy: 0.9870 - val_loss: 8.8654 - val_accuracy: 0.0246\n",
      "Epoch 57/81\n",
      "205/205 [==============================] - 210s 1s/step - loss: 0.0317 - accuracy: 0.9905 - val_loss: 1.3489 - val_accuracy: 0.7103\n",
      "Epoch 58/81\n",
      "205/205 [==============================] - 208s 1s/step - loss: 0.0236 - accuracy: 0.9925 - val_loss: 0.8595 - val_accuracy: 0.8095\n",
      "Epoch 59/81\n",
      "205/205 [==============================] - 211s 1s/step - loss: 0.0299 - accuracy: 0.9913 - val_loss: 0.7781 - val_accuracy: 0.8221\n",
      "Epoch 60/81\n",
      "205/205 [==============================] - 222s 1s/step - loss: 0.0257 - accuracy: 0.9931 - val_loss: 3.0863 - val_accuracy: 0.4291\n",
      "Epoch 61/81\n",
      "205/205 [==============================] - 216s 1s/step - loss: 0.0203 - accuracy: 0.9931 - val_loss: 0.1838 - val_accuracy: 0.9561\n",
      "Epoch 62/81\n",
      "205/205 [==============================] - 212s 1s/step - loss: 0.0171 - accuracy: 0.9942 - val_loss: 1.9003 - val_accuracy: 0.5950\n",
      "Epoch 63/81\n",
      "205/205 [==============================] - 215s 1s/step - loss: 0.0228 - accuracy: 0.9925 - val_loss: 0.1653 - val_accuracy: 0.9694\n",
      "Epoch 64/81\n",
      "205/205 [==============================] - 214s 1s/step - loss: 0.0232 - accuracy: 0.9931 - val_loss: 1.7167 - val_accuracy: 0.6274\n",
      "Epoch 65/81\n",
      "205/205 [==============================] - 208s 1s/step - loss: 0.0164 - accuracy: 0.9942 - val_loss: 0.3877 - val_accuracy: 0.9159\n",
      "Epoch 66/81\n",
      "205/205 [==============================] - 205s 999ms/step - loss: 0.0183 - accuracy: 0.9933 - val_loss: 0.5429 - val_accuracy: 0.8702\n",
      "Epoch 67/81\n",
      "205/205 [==============================] - 205s 999ms/step - loss: 0.0139 - accuracy: 0.9951 - val_loss: 0.2579 - val_accuracy: 0.9483\n",
      "Epoch 68/81\n",
      "205/205 [==============================] - 206s 1s/step - loss: 0.0183 - accuracy: 0.9947 - val_loss: 0.1242 - val_accuracy: 0.9796\n",
      "Epoch 69/81\n",
      "205/205 [==============================] - 203s 989ms/step - loss: 0.0162 - accuracy: 0.9948 - val_loss: 0.3506 - val_accuracy: 0.9249\n",
      "Epoch 70/81\n",
      "205/205 [==============================] - 205s 996ms/step - loss: 0.0118 - accuracy: 0.9968 - val_loss: 0.1542 - val_accuracy: 0.9718\n",
      "Epoch 71/81\n",
      "205/205 [==============================] - 201s 977ms/step - loss: 0.0154 - accuracy: 0.9953 - val_loss: 0.2709 - val_accuracy: 0.9399\n",
      "Epoch 72/81\n",
      "205/205 [==============================] - 200s 977ms/step - loss: 0.0125 - accuracy: 0.9957 - val_loss: 0.1367 - val_accuracy: 0.9790\n",
      "Epoch 73/81\n",
      "205/205 [==============================] - 201s 978ms/step - loss: 0.0163 - accuracy: 0.9947 - val_loss: 0.1189 - val_accuracy: 0.9790\n",
      "Epoch 74/81\n",
      "205/205 [==============================] - 201s 982ms/step - loss: 0.0130 - accuracy: 0.9953 - val_loss: 0.1688 - val_accuracy: 0.9724\n",
      "Epoch 75/81\n",
      "205/205 [==============================] - 200s 977ms/step - loss: 0.0144 - accuracy: 0.9956 - val_loss: 0.1420 - val_accuracy: 0.9778\n",
      "Epoch 76/81\n",
      "205/205 [==============================] - 203s 991ms/step - loss: 0.0107 - accuracy: 0.9965 - val_loss: 0.0919 - val_accuracy: 0.9856\n",
      "Epoch 77/81\n",
      "205/205 [==============================] - 205s 1000ms/step - loss: 0.0101 - accuracy: 0.9962 - val_loss: 0.1107 - val_accuracy: 0.9868\n",
      "Epoch 78/81\n",
      "205/205 [==============================] - 204s 992ms/step - loss: 0.0145 - accuracy: 0.9956 - val_loss: 0.1121 - val_accuracy: 0.9832\n",
      "Epoch 79/81\n",
      "205/205 [==============================] - 201s 977ms/step - loss: 0.0093 - accuracy: 0.9974 - val_loss: 0.0990 - val_accuracy: 0.9832\n",
      "Epoch 80/81\n",
      "205/205 [==============================] - 202s 984ms/step - loss: 0.0093 - accuracy: 0.9973 - val_loss: 0.1196 - val_accuracy: 0.9820\n",
      "Epoch 81/81\n",
      "205/205 [==============================] - 203s 988ms/step - loss: 0.0115 - accuracy: 0.9963 - val_loss: 0.0986 - val_accuracy: 0.9844\n",
      "Final model parameters set to stochastic weight average.\n",
      "Final stochastic averaged weights saved to file.\n"
     ]
    }
   ],
   "source": [
    "HEIGHT = 299\n",
    "WIDTH = 299\n",
    "\n",
    "input_shape=(HEIGHT, WIDTH, 3)\n",
    "\n",
    "FC_LAYERS = [1024]\n",
    "dropout = 0.7\n",
    "epochs = 81\n",
    "swa = SWA('./keras_swa.model',epochs-3)\n",
    "\n",
    "base_model = EfficientNetB0(weights='imagenet',include_top=False,input_shape=(HEIGHT, WIDTH, 3))\n",
    "\n",
    "model = build_finetune_model(base_model, dropout=dropout, num_classes=196)\n",
    "\n",
    "model.compile(optimizer='adam', loss='categorical_crossentropy', metrics=['accuracy'])\n",
    "\n",
    "snapshot = SnapshotCallbackBuilder(nb_epochs=epochs,nb_snapshots=1,init_lr=1e-3)\n",
    "\n",
    "history = model.fit(train_generator,validation_data=validation_generator,steps_per_epoch=205,epochs=epochs,verbose=1,validation_steps=52,callbacks=snapshot.get_callbacks())\n",
    "\n",
    "try:\n",
    "    model.load_weights('./keras_swa.model')\n",
    "except Exception as e:\n",
    "    print(e)"
   ]
  },
  {
   "cell_type": "code",
   "execution_count": 11,
   "id": "40eaabcc",
   "metadata": {
    "execution": {
     "iopub.execute_input": "2022-01-04T21:26:12.549019Z",
     "iopub.status.busy": "2022-01-04T21:26:12.548132Z",
     "iopub.status.idle": "2022-01-04T21:26:12.890068Z",
     "shell.execute_reply": "2022-01-04T21:26:12.889595Z",
     "shell.execute_reply.started": "2022-01-04T16:02:55.758610Z"
    },
    "papermill": {
     "duration": 4.852615,
     "end_time": "2022-01-04T21:26:12.890189",
     "exception": false,
     "start_time": "2022-01-04T21:26:08.037574",
     "status": "completed"
    },
    "tags": []
   },
   "outputs": [
    {
     "data": {
      "image/png": "[encoded data removed]",
      "text/plain": [
       "<Figure size 1440x504 with 2 Axes>"
      ]
     },
     "metadata": {
      "needs_background": "light"
     },
     "output_type": "display_data"
    }
   ],
   "source": [
    "plot_loss_acc(history)"
   ]
  },
  {
   "cell_type": "code",
   "execution_count": 12,
   "id": "491eded3",
   "metadata": {
    "execution": {
     "iopub.execute_input": "2022-01-04T21:26:21.856013Z",
     "iopub.status.busy": "2022-01-04T21:26:21.855366Z",
     "iopub.status.idle": "2022-01-04T21:35:27.274754Z",
     "shell.execute_reply": "2022-01-04T21:35:27.274311Z",
     "shell.execute_reply.started": "2022-01-04T16:02:56.115940Z"
    },
    "papermill": {
     "duration": 549.80901,
     "end_time": "2022-01-04T21:35:27.274923",
     "exception": false,
     "start_time": "2022-01-04T21:26:17.465913",
     "status": "completed"
    },
    "tags": []
   },
   "outputs": [
    {
     "name": "stderr",
     "output_type": "stream",
     "text": [
      "/opt/conda/lib/python3.7/site-packages/ipykernel_launcher.py:6: TqdmDeprecationWarning: This function will be removed in tqdm==5.0.0\n",
      "Please use `tqdm.notebook.tqdm` instead of `tqdm.tqdm_notebook`\n",
      "  \n"
     ]
    },
    {
     "data": {
      "application/vnd.jupyter.widget-view+json": {
       "model_id": "7aa831dc6f174f3cb7e9ec5d29559777",
       "version_major": 2,
       "version_minor": 0
      },
      "text/plain": [
       "  0%|          | 0/8041 [00:00<?, ?it/s]"
      ]
     },
     "metadata": {},
     "output_type": "display_data"
    }
   ],
   "source": [
    "from tqdm import tqdm_notebook\n",
    "import scipy.io as sio\n",
    "\n",
    "num_samples,all_preds = 8041,[]\n",
    "out = open('result.txt','a')\n",
    "for i in tqdm_notebook(range(num_samples)):\n",
    "    filename = os.path.join('../input/testdata/cars_test', '%05d.jpg' % (i + 1))\n",
    "    bgr_img = cv.imread(filename)\n",
    "    rgb_img = cv.resize(cv.cvtColor(bgr_img, cv.COLOR_BGR2RGB)/255,(299,299))\n",
    "    rgb_img = np.expand_dims(rgb_img, 0)\n",
    "    preds = model.predict(rgb_img)\n",
    "    class_id = np.argmax(preds)\n",
    "    all_preds.append(class_id)\n",
    "    out.write('{}\\n'.format(str(class_id + 1)))\n",
    "    \n",
    "out.close()"
   ]
  },
  {
   "cell_type": "code",
   "execution_count": 13,
   "id": "bfc3d268",
   "metadata": {
    "execution": {
     "iopub.execute_input": "2022-01-04T21:35:36.389148Z",
     "iopub.status.busy": "2022-01-04T21:35:36.388577Z",
     "iopub.status.idle": "2022-01-04T21:35:36.625203Z",
     "shell.execute_reply": "2022-01-04T21:35:36.624560Z",
     "shell.execute_reply.started": "2022-01-04T16:15:38.960229Z"
    },
    "papermill": {
     "duration": 4.515905,
     "end_time": "2022-01-04T21:35:36.625362",
     "exception": false,
     "start_time": "2022-01-04T21:35:32.109457",
     "status": "completed"
    },
    "tags": []
   },
   "outputs": [],
   "source": [
    "labels = sio.loadmat('../input/matfile/devkit/cars_test_annos_withlabels.mat')\n",
    "actual_preds = np.array(labels['annotations']['class'],dtype=np.int)-1;\n",
    "actual_preds = actual_preds.squeeze()\n",
    "all_preds = np.array(all_preds)"
   ]
  },
  {
   "cell_type": "code",
   "execution_count": 14,
   "id": "6e2deb17",
   "metadata": {
    "execution": {
     "iopub.execute_input": "2022-01-04T21:35:45.586625Z",
     "iopub.status.busy": "2022-01-04T21:35:45.585726Z",
     "iopub.status.idle": "2022-01-04T21:35:45.588743Z",
     "shell.execute_reply": "2022-01-04T21:35:45.589221Z",
     "shell.execute_reply.started": "2022-01-04T16:15:42.862008Z"
    },
    "papermill": {
     "duration": 4.312012,
     "end_time": "2022-01-04T21:35:45.589361",
     "exception": false,
     "start_time": "2022-01-04T21:35:41.277349",
     "status": "completed"
    },
    "tags": []
   },
   "outputs": [
    {
     "name": "stdout",
     "output_type": "stream",
     "text": [
      "accuracy =  0.8883223479666709\n"
     ]
    }
   ],
   "source": [
    "print('accuracy = ',(all_preds==actual_preds).sum()/len(actual_preds))"
   ]
  }
 ],
 "metadata": {
  "kernelspec": {
   "display_name": "Python 3",
   "language": "python",
   "name": "python3"
  },
  "language_info": {
   "codemirror_mode": {
    "name": "ipython",
    "version": 3
   },
   "file_extension": ".py",
   "mimetype": "text/x-python",
   "name": "python",
   "nbconvert_exporter": "python",
   "pygments_lexer": "ipython3",
   "version": "3.7.12"
  },
  "papermill": {
   "default_parameters": {},
   "duration": 19157.10589,
   "end_time": "2022-01-04T21:35:53.434319",
   "environment_variables": {},
   "exception": null,
   "input_path": "__notebook__.ipynb",
   "output_path": "__notebook__.ipynb",
   "parameters": {},
   "start_time": "2022-01-04T16:16:36.328429",
   "version": "2.3.3"
  },
  "widgets": {
   "application/vnd.jupyter.widget-state+json": {
    "state": {
     "057bea51640f4497aa0b4dbd51d122b0": {
      "model_module": "@jupyter-widgets/base",
      "model_module_version": "1.2.0",
      "model_name": "LayoutModel",
      "state": {
       "_model_module": "@jupyter-widgets/base",
       "_model_module_version": "1.2.0",
       "_model_name": "LayoutModel",
       "_view_count": null,
       "_view_module": "@jupyter-widgets/base",
       "_view_module_version": "1.2.0",
       "_view_name": "LayoutView",
       "align_content": null,
       "align_items": null,
       "align_self": null,
       "border": null,
       "bottom": null,
       "display": null,
       "flex": null,
       "flex_flow": null,
       "grid_area": null,
       "grid_auto_columns": null,
       "grid_auto_flow": null,
       "grid_auto_rows": null,
       "grid_column": null,
       "grid_gap": null,
       "grid_row": null,
       "grid_template_areas": null,
       "grid_template_columns": null,
       "grid_template_rows": null,
       "height": null,
       "justify_content": null,
       "justify_items": null,
       "left": null,
       "margin": null,
       "max_height": null,
       "max_width": null,
       "min_height": null,
       "min_width": null,
       "object_fit": null,
       "object_position": null,
       "order": null,
       "overflow": null,
       "overflow_x": null,
       "overflow_y": null,
       "padding": null,
       "right": null,
       "top": null,
       "visibility": null,
       "width": null
      }
     },
     "156377f216a84817a84f8727569fcffa": {
      "model_module": "@jupyter-widgets/controls",
      "model_module_version": "1.5.0",
      "model_name": "DescriptionStyleModel",
      "state": {
       "_model_module": "@jupyter-widgets/controls",
       "_model_module_version": "1.5.0",
       "_model_name": "DescriptionStyleModel",
       "_view_count": null,
       "_view_module": "@jupyter-widgets/base",
       "_view_module_version": "1.2.0",
       "_view_name": "StyleView",
       "description_width": ""
      }
     },
     "3e7f53416a794f61b81a353bdc5c514a": {
      "model_module": "@jupyter-widgets/base",
      "model_module_version": "1.2.0",
      "model_name": "LayoutModel",
      "state": {
       "_model_module": "@jupyter-widgets/base",
       "_model_module_version": "1.2.0",
       "_model_name": "LayoutModel",
       "_view_count": null,
       "_view_module": "@jupyter-widgets/base",
       "_view_module_version": "1.2.0",
       "_view_name": "LayoutView",
       "align_content": null,
       "align_items": null,
       "align_self": null,
       "border": null,
       "bottom": null,
       "display": null,
       "flex": null,
       "flex_flow": null,
       "grid_area": null,
       "grid_auto_columns": null,
       "grid_auto_flow": null,
       "grid_auto_rows": null,
       "grid_column": null,
       "grid_gap": null,
       "grid_row": null,
       "grid_template_areas": null,
       "grid_template_columns": null,
       "grid_template_rows": null,
       "height": null,
       "justify_content": null,
       "justify_items": null,
       "left": null,
       "margin": null,
       "max_height": null,
       "max_width": null,
       "min_height": null,
       "min_width": null,
       "object_fit": null,
       "object_position": null,
       "order": null,
       "overflow": null,
       "overflow_x": null,
       "overflow_y": null,
       "padding": null,
       "right": null,
       "top": null,
       "visibility": null,
       "width": null
      }
     },
     "4048ae6edb554a2cab2d54b567b9c78c": {
      "model_module": "@jupyter-widgets/controls",
      "model_module_version": "1.5.0",
      "model_name": "DescriptionStyleModel",
      "state": {
       "_model_module": "@jupyter-widgets/controls",
       "_model_module_version": "1.5.0",
       "_model_name": "DescriptionStyleModel",
       "_view_count": null,
       "_view_module": "@jupyter-widgets/base",
       "_view_module_version": "1.2.0",
       "_view_name": "StyleView",
       "description_width": ""
      }
     },
     "4847eaf9ad08442198f5df31ff6e64f3": {
      "model_module": "@jupyter-widgets/base",
      "model_module_version": "1.2.0",
      "model_name": "LayoutModel",
      "state": {
       "_model_module": "@jupyter-widgets/base",
       "_model_module_version": "1.2.0",
       "_model_name": "LayoutModel",
       "_view_count": null,
       "_view_module": "@jupyter-widgets/base",
       "_view_module_version": "1.2.0",
       "_view_name": "LayoutView",
       "align_content": null,
       "align_items": null,
       "align_self": null,
       "border": null,
       "bottom": null,
       "display": null,
       "flex": null,
       "flex_flow": null,
       "grid_area": null,
       "grid_auto_columns": null,
       "grid_auto_flow": null,
       "grid_auto_rows": null,
       "grid_column": null,
       "grid_gap": null,
       "grid_row": null,
       "grid_template_areas": null,
       "grid_template_columns": null,
       "grid_template_rows": null,
       "height": null,
       "justify_content": null,
       "justify_items": null,
       "left": null,
       "margin": null,
       "max_height": null,
       "max_width": null,
       "min_height": null,
       "min_width": null,
       "object_fit": null,
       "object_position": null,
       "order": null,
       "overflow": null,
       "overflow_x": null,
       "overflow_y": null,
       "padding": null,
       "right": null,
       "top": null,
       "visibility": null,
       "width": null
      }
     },
     "593f8d6281144facb7bb33b67833663c": {
      "model_module": "@jupyter-widgets/base",
      "model_module_version": "1.2.0",
      "model_name": "LayoutModel",
      "state": {
       "_model_module": "@jupyter-widgets/base",
       "_model_module_version": "1.2.0",
       "_model_name": "LayoutModel",
       "_view_count": null,
       "_view_module": "@jupyter-widgets/base",
       "_view_module_version": "1.2.0",
       "_view_name": "LayoutView",
       "align_content": null,
       "align_items": null,
       "align_self": null,
       "border": null,
       "bottom": null,
       "display": null,
       "flex": null,
       "flex_flow": null,
       "grid_area": null,
       "grid_auto_columns": null,
       "grid_auto_flow": null,
       "grid_auto_rows": null,
       "grid_column": null,
       "grid_gap": null,
       "grid_row": null,
       "grid_template_areas": null,
       "grid_template_columns": null,
       "grid_template_rows": null,
       "height": null,
       "justify_content": null,
       "justify_items": null,
       "left": null,
       "margin": null,
       "max_height": null,
       "max_width": null,
       "min_height": null,
       "min_width": null,
       "object_fit": null,
       "object_position": null,
       "order": null,
       "overflow": null,
       "overflow_x": null,
       "overflow_y": null,
       "padding": null,
       "right": null,
       "top": null,
       "visibility": null,
       "width": null
      }
     },
     "74a35c538b9f4c329b20e966fed48427": {
      "model_module": "@jupyter-widgets/controls",
      "model_module_version": "1.5.0",
      "model_name": "FloatProgressModel",
      "state": {
       "_dom_classes": [],
       "_model_module": "@jupyter-widgets/controls",
       "_model_module_version": "1.5.0",
       "_model_name": "FloatProgressModel",
       "_view_count": null,
       "_view_module": "@jupyter-widgets/controls",
       "_view_module_version": "1.5.0",
       "_view_name": "ProgressView",
       "bar_style": "success",
       "description": "",
       "description_tooltip": null,
       "layout": "IPY_MODEL_4847eaf9ad08442198f5df31ff6e64f3",
       "max": 8041.0,
       "min": 0.0,
       "orientation": "horizontal",
       "style": "IPY_MODEL_ad9b7222bf8f47bfac1814314ebcda36",
       "value": 8041.0
      }
     },
     "7aa831dc6f174f3cb7e9ec5d29559777": {
      "model_module": "@jupyter-widgets/controls",
      "model_module_version": "1.5.0",
      "model_name": "HBoxModel",
      "state": {
       "_dom_classes": [],
       "_model_module": "@jupyter-widgets/controls",
       "_model_module_version": "1.5.0",
       "_model_name": "HBoxModel",
       "_view_count": null,
       "_view_module": "@jupyter-widgets/controls",
       "_view_module_version": "1.5.0",
       "_view_name": "HBoxView",
       "box_style": "",
       "children": [
        "IPY_MODEL_b499cf7d661a4a89ae5f3429e382c473",
        "IPY_MODEL_74a35c538b9f4c329b20e966fed48427",
        "IPY_MODEL_7e0c98102f2346809cfff7135a48ed50"
       ],
       "layout": "IPY_MODEL_3e7f53416a794f61b81a353bdc5c514a"
      }
     },
     "7e0c98102f2346809cfff7135a48ed50": {
      "model_module": "@jupyter-widgets/controls",
      "model_module_version": "1.5.0",
      "model_name": "HTMLModel",
      "state": {
       "_dom_classes": [],
       "_model_module": "@jupyter-widgets/controls",
       "_model_module_version": "1.5.0",
       "_model_name": "HTMLModel",
       "_view_count": null,
       "_view_module": "@jupyter-widgets/controls",
       "_view_module_version": "1.5.0",
       "_view_name": "HTMLView",
       "description": "",
       "description_tooltip": null,
       "layout": "IPY_MODEL_593f8d6281144facb7bb33b67833663c",
       "placeholder": "​",
       "style": "IPY_MODEL_156377f216a84817a84f8727569fcffa",
       "value": " 8041/8041 [09:05&lt;00:00, 14.00it/s]"
      }
     },
     "ad9b7222bf8f47bfac1814314ebcda36": {
      "model_module": "@jupyter-widgets/controls",
      "model_module_version": "1.5.0",
      "model_name": "ProgressStyleModel",
      "state": {
       "_model_module": "@jupyter-widgets/controls",
       "_model_module_version": "1.5.0",
       "_model_name": "ProgressStyleModel",
       "_view_count": null,
       "_view_module": "@jupyter-widgets/base",
       "_view_module_version": "1.2.0",
       "_view_name": "StyleView",
       "bar_color": null,
       "description_width": ""
      }
     },
     "b499cf7d661a4a89ae5f3429e382c473": {
      "model_module": "@jupyter-widgets/controls",
      "model_module_version": "1.5.0",
      "model_name": "HTMLModel",
      "state": {
       "_dom_classes": [],
       "_model_module": "@jupyter-widgets/controls",
       "_model_module_version": "1.5.0",
       "_model_name": "HTMLModel",
       "_view_count": null,
       "_view_module": "@jupyter-widgets/controls",
       "_view_module_version": "1.5.0",
       "_view_name": "HTMLView",
       "description": "",
       "description_tooltip": null,
       "layout": "IPY_MODEL_057bea51640f4497aa0b4dbd51d122b0",
       "placeholder": "​",
       "style": "IPY_MODEL_4048ae6edb554a2cab2d54b567b9c78c",
       "value": "100%"
      }
     }
    },
    "version_major": 2,
    "version_minor": 0
   }
  }
 },
 "nbformat": 4,
 "nbformat_minor": 5
}
