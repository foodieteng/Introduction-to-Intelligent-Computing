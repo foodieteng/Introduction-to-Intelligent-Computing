{
  "cells": [
    {
      "cell_type": "code",
      "execution_count": 1,
      "metadata": {
        "colab": {
          "base_uri": "https://localhost:8080/"
        },
        "id": "R_ax-dOKRfZG",
        "outputId": "ff2937f1-0e8d-4ae2-d92e-abb7783e7405"
      },
      "outputs": [
        {
          "name": "stdout",
          "output_type": "stream",
          "text": [
            "Mounted at /content/drive\n"
          ]
        }
      ],
      "source": [
        "from google.colab import drive\n",
        "drive.mount('/content/drive')"
      ]
    },
    {
      "cell_type": "code",
      "execution_count": 2,
      "metadata": {
        "id": "Q0nRZvM0ReOn"
      },
      "outputs": [],
      "source": [
        "# 安裝cv2與tensorflow套件後用這些套件建構深度學習模型\n",
        "#install cv2 and tensorflow package and use the package to establish the deep learning model\n",
        "\n",
        "import glob\n",
        "import random as rn\n",
        "import numpy as np\n",
        "import pandas as pd\n",
        "import matplotlib.pyplot as plt\n",
        "import seaborn as sns\n",
        "import cv2\n",
        "\n",
        "from tensorflow.keras.models import Sequential\n",
        "from tensorflow.keras.layers import Dense, Conv2D, MaxPooling2D, Flatten, Dropout, BatchNormalization\n",
        "from tensorflow.keras.callbacks import EarlyStopping, ReduceLROnPlateau\n",
        "from tensorflow.keras.preprocessing.image import ImageDataGenerator\n",
        "from tensorflow.keras.optimizers import RMSprop, Adam\n",
        "from tensorflow.keras.utils import to_categorical\n",
        "from sklearn.metrics import classification_report, confusion_matrix\n",
        "\n",
        "\n",
        "get_ipython().run_line_magic('matplotlib', 'inline')\n",
        "import warnings\n",
        "warnings.filterwarnings('ignore')\n",
        "\n",
        "# 下載資料load data 並分解成 訓練training, 測試test 與 驗證validation 集\n",
        "# down load the data and divide it into training test and validation set\n",
        "\n",
        "path = '/content/drive/MyDrive/AI_HW3/chest_xray/'\n",
        "\n",
        "\n",
        "# define paths\n",
        "train_normal_dir = path + 'train/NORMAL/'\n",
        "train_pneu_dir = path + 'train/PNEUMONIA/'\n",
        "\n",
        "test_normal_dir = path + 'test/NORMAL/'\n",
        "test_pneu_dir = path + 'test/PNEUMONIA/'\n",
        "\n",
        "val_normal_dir = path + 'val/NORMAL/'\n",
        "val_pneu_dir = path + 'val/PNEUMONIA/'\n",
        "\n",
        "\n",
        "# find all files, our files have extension jpeg\n",
        "train_normal_cases = glob.glob(train_normal_dir + '*jpeg')\n",
        "train_pneu_cases = glob.glob(train_pneu_dir + '*jpeg')\n",
        "\n",
        "test_normal_cases = glob.glob(test_normal_dir + '*jpeg')\n",
        "test_pneu_cases = glob.glob(test_pneu_dir + '*jpeg')\n",
        "\n",
        "val_normal_cases = glob.glob(val_normal_dir + '*jpeg')\n",
        "val_pneu_cases = glob.glob(val_pneu_dir + '*jpeg')\n",
        "\n",
        "\n",
        "# make path using / instead of \\\\ ... this may be a redudant step\n",
        "train_normal_cases = [x.replace('\\\\', '/') for x in train_normal_cases]\n",
        "train_pneu_cases = [x.replace('\\\\', '/') for x in train_pneu_cases]\n",
        "test_normal_cases = [x.replace('\\\\', '/') for x in test_normal_cases]\n",
        "test_pneu_cases = [x.replace('\\\\', '/') for x in test_pneu_cases]\n",
        "val_normal_cases = [x.replace('\\\\', '/') for x in val_normal_cases]\n",
        "val_pneu_cases = [x.replace('\\\\', '/') for x in val_pneu_cases]\n",
        "\n",
        "\n",
        "# create lists for train, test & validation cases, create labels as well\n",
        "train_list = []\n",
        "test_list = []\n",
        "val_list = []\n",
        "\n",
        "for x in train_normal_cases:\n",
        "    train_list.append([x, 0])\n",
        "    \n",
        "for x in train_pneu_cases:\n",
        "    train_list.append([x, 1])\n",
        "    \n",
        "for x in test_normal_cases:\n",
        "    test_list.append([x, 0])\n",
        "    \n",
        "for x in test_pneu_cases:\n",
        "    test_list.append([x, 1])\n",
        "    \n",
        "for x in val_normal_cases:\n",
        "    val_list.append([x, 0])\n",
        "    \n",
        "for x in val_pneu_cases:\n",
        "    val_list.append([x, 1])\n",
        "\n",
        "\n",
        "# shuffle/randomize data as they were loaded in order: normal cases, then pneumonia cases\n",
        "rn.shuffle(train_list)\n",
        "rn.shuffle(test_list)\n",
        "rn.shuffle(val_list)\n",
        "\n",
        "\n",
        "# create dataframes\n",
        "train_df = pd.DataFrame(train_list, columns=['image', 'label'])\n",
        "test_df = pd.DataFrame(test_list, columns=['image', 'label'])\n",
        "val_df = pd.DataFrame(val_list, columns=['image', 'label'])\n",
        "\n"
      ]
    },
    {
      "cell_type": "code",
      "execution_count": 6,
      "metadata": {
        "id": "mA2_tRbFReOv"
      },
      "outputs": [],
      "source": [
        "#preprocess data\n",
        "def process_data(img_path):\n",
        "    img = cv2.imread(img_path)\n",
        "    img = cv2.resize(img, (196, 196))\n",
        "    img = cv2.cvtColor(img, cv2.COLOR_BGR2GRAY)\n",
        "    img = img/255.0\n",
        "    img = np.reshape(img, (196,196,1))\n",
        "    \n",
        "    return img\n",
        "#stored in np.array\n",
        "def compose_dataset(df):\n",
        "    data = []\n",
        "    labels = []\n",
        "\n",
        "    for img_path, label in df.values:\n",
        "        data.append(process_data(img_path))\n",
        "        labels.append(label)\n",
        "        \n",
        "    return np.array(data), np.array(labels)"
      ]
    },
    {
      "cell_type": "code",
      "execution_count": 7,
      "metadata": {
        "colab": {
          "base_uri": "https://localhost:8080/"
        },
        "id": "Q0U7D3p5ReOw",
        "outputId": "6207a14c-16f1-41b5-8a1e-f22bdbfde9f3"
      },
      "outputs": [
        {
          "name": "stdout",
          "output_type": "stream",
          "text": [
            "Train data shape: (5216, 196, 196, 1), Labels shape: (5216,)\n",
            "Test data shape: (624, 196, 196, 1), Labels shape: (624,)\n",
            "Validation data shape: (16, 196, 196, 1), Labels shape: (16,)\n"
          ]
        }
      ],
      "source": [
        "X_train, y_train = compose_dataset(train_df)\n",
        "X_test, y_test = compose_dataset(test_df)\n",
        "X_val, y_val = compose_dataset(val_df)\n",
        "\n",
        "print('Train data shape: {}, Labels shape: {}'.format(X_train.shape, y_train.shape))\n",
        "print('Test data shape: {}, Labels shape: {}'.format(X_test.shape, y_test.shape))\n",
        "print('Validation data shape: {}, Labels shape: {}'.format(X_val.shape, y_val.shape))"
      ]
    },
    {
      "cell_type": "code",
      "execution_count": 8,
      "metadata": {
        "id": "myUebCyWReOw"
      },
      "outputs": [],
      "source": [
        "#data preprocessing and data augmentation\n",
        "datagenerator = ImageDataGenerator(\n",
        "    rotation_range = 10,\n",
        "    width_shift_range = 0.1,\n",
        "    zoom_range = 0.1,\n",
        "    height_shift_range = 0.1,\n",
        "    horizontal_flip = False,\n",
        "    vertical_flip = False\n",
        ")\n",
        "datagenerator.fit(X_train)"
      ]
    },
    {
      "cell_type": "code",
      "execution_count": 9,
      "metadata": {
        "id": "pcDjhXdEReOw"
      },
      "outputs": [],
      "source": [
        "y_train = to_categorical(y_train)\n",
        "y_test = to_categorical(y_test)\n",
        "y_val = to_categorical(y_val)"
      ]
    },
    {
      "cell_type": "code",
      "execution_count": 10,
      "metadata": {
        "id": "FKds3ftlReOx"
      },
      "outputs": [],
      "source": [
        "model = Sequential()\n",
        "\n",
        "model.add(Conv2D(filters=8, kernel_size=(7,7), padding='same', activation='relu', input_shape=(196, 196, 1)))\n",
        "model.add(Conv2D(filters=8, kernel_size=(7,7), padding='same', activation='relu'))\n",
        "model.add(MaxPooling2D(pool_size=(3,3)))\n",
        "\n",
        "model.add(Conv2D(filters=16, kernel_size=(5,5), padding='same', activation='relu'))\n",
        "model.add(Conv2D(filters=16, kernel_size=(5,5), padding='same', activation='relu'))\n",
        "model.add(MaxPooling2D(pool_size=(3,3)))\n",
        "\n",
        "model.add(Conv2D(filters=32, kernel_size=(3,3), padding='same', activation='relu'))\n",
        "model.add(Conv2D(filters=32, kernel_size=(3,3), padding='same', activation='relu'))\n",
        "model.add(MaxPooling2D(pool_size=(2,2)))\n",
        "\n",
        "model.add(Conv2D(filters=64, kernel_size=(3,3), padding='same', activation='relu'))\n",
        "model.add(Conv2D(filters=64, kernel_size=(3,3), padding='same', activation='relu'))\n",
        "model.add(MaxPooling2D(pool_size=(2,2)))\n",
        "\n",
        "model.add(Conv2D(filters=128, kernel_size=(3,3), padding='same', activation='relu'))\n",
        "model.add(Conv2D(filters=128, kernel_size=(3,3), padding='same', activation='relu'))\n",
        "model.add(MaxPooling2D(pool_size=(2,2)))\n",
        "\n",
        "model.add(Flatten())\n",
        "\n",
        "model.add(Dense(128, activation='relu'))\n",
        "model.add(Dropout(0.2))\n",
        "model.add(Dense(2, activation='softmax'))"
      ]
    },
    {
      "cell_type": "code",
      "execution_count": 11,
      "metadata": {
        "id": "ED3epMXTReOy"
      },
      "outputs": [],
      "source": [
        "optimizer = Adam(lr = 0.0001, decay= 1e-5)\n",
        "model.compile(loss='categorical_crossentropy', optimizer = optimizer, metrics=['accuracy'])"
      ]
    },
    {
      "cell_type": "code",
      "execution_count": 12,
      "metadata": {
        "colab": {
          "base_uri": "https://localhost:8080/"
        },
        "id": "ewPpU4LRReOy",
        "outputId": "c775d39b-aa5b-4224-eb46-18293a4dcd31"
      },
      "outputs": [
        {
          "name": "stdout",
          "output_type": "stream",
          "text": [
            "Epoch 1/100\n",
            "1304/1304 [==============================] - 57s 34ms/step - loss: 0.6684 - accuracy: 0.5213 - val_loss: 0.3339 - val_accuracy: 0.8590\n",
            "Epoch 2/100\n",
            "1304/1304 [==============================] - 44s 33ms/step - loss: 0.3432 - accuracy: 0.8192 - val_loss: 0.3690 - val_accuracy: 0.8590\n",
            "Epoch 3/100\n",
            "1304/1304 [==============================] - 43s 33ms/step - loss: 0.2682 - accuracy: 0.8625 - val_loss: 0.4784 - val_accuracy: 0.7997\n",
            "Epoch 4/100\n",
            "1304/1304 [==============================] - 43s 33ms/step - loss: 0.2538 - accuracy: 0.8683 - val_loss: 0.3352 - val_accuracy: 0.8654\n",
            "Epoch 5/100\n",
            "1304/1304 [==============================] - 43s 33ms/step - loss: 0.2527 - accuracy: 0.8760 - val_loss: 0.2841 - val_accuracy: 0.8910\n",
            "Epoch 6/100\n",
            "1304/1304 [==============================] - 43s 33ms/step - loss: 0.2171 - accuracy: 0.8921 - val_loss: 0.3100 - val_accuracy: 0.8958\n",
            "Epoch 7/100\n",
            "1304/1304 [==============================] - 43s 33ms/step - loss: 0.1955 - accuracy: 0.9013 - val_loss: 0.2840 - val_accuracy: 0.9022\n",
            "Epoch 8/100\n",
            "1304/1304 [==============================] - 43s 33ms/step - loss: 0.1949 - accuracy: 0.9022 - val_loss: 0.3002 - val_accuracy: 0.8894\n",
            "Epoch 9/100\n",
            "1304/1304 [==============================] - 43s 33ms/step - loss: 0.1995 - accuracy: 0.9057 - val_loss: 0.2496 - val_accuracy: 0.8942\n",
            "Epoch 10/100\n",
            "1304/1304 [==============================] - 43s 33ms/step - loss: 0.1763 - accuracy: 0.9178 - val_loss: 0.3777 - val_accuracy: 0.8462\n",
            "Epoch 11/100\n",
            "1304/1304 [==============================] - 43s 33ms/step - loss: 0.1679 - accuracy: 0.9241 - val_loss: 0.2883 - val_accuracy: 0.8862\n",
            "Epoch 12/100\n",
            "1304/1304 [==============================] - 43s 33ms/step - loss: 0.1611 - accuracy: 0.9220 - val_loss: 0.3096 - val_accuracy: 0.9022\n",
            "Epoch 13/100\n",
            "1304/1304 [==============================] - 43s 33ms/step - loss: 0.1621 - accuracy: 0.9241 - val_loss: 0.2537 - val_accuracy: 0.9087\n",
            "Epoch 14/100\n",
            "1304/1304 [==============================] - 43s 33ms/step - loss: 0.1678 - accuracy: 0.9216 - val_loss: 0.4381 - val_accuracy: 0.8638\n",
            "Epoch 15/100\n",
            "1304/1304 [==============================] - 43s 33ms/step - loss: 0.1547 - accuracy: 0.9293 - val_loss: 0.2643 - val_accuracy: 0.9071\n",
            "Epoch 16/100\n",
            "1304/1304 [==============================] - 43s 33ms/step - loss: 0.1570 - accuracy: 0.9279 - val_loss: 0.2402 - val_accuracy: 0.8990\n",
            "Epoch 17/100\n",
            "1304/1304 [==============================] - 43s 33ms/step - loss: 0.1383 - accuracy: 0.9342 - val_loss: 0.2406 - val_accuracy: 0.9199\n",
            "Epoch 18/100\n",
            "1304/1304 [==============================] - 43s 33ms/step - loss: 0.1255 - accuracy: 0.9383 - val_loss: 0.3261 - val_accuracy: 0.9087\n",
            "Epoch 19/100\n",
            "1304/1304 [==============================] - 43s 33ms/step - loss: 0.1394 - accuracy: 0.9371 - val_loss: 0.2676 - val_accuracy: 0.9119\n",
            "Epoch 20/100\n",
            "1304/1304 [==============================] - 43s 33ms/step - loss: 0.1284 - accuracy: 0.9387 - val_loss: 0.3458 - val_accuracy: 0.8894\n",
            "Epoch 21/100\n",
            "1304/1304 [==============================] - 43s 33ms/step - loss: 0.1239 - accuracy: 0.9429 - val_loss: 0.3871 - val_accuracy: 0.8926\n",
            "Epoch 22/100\n",
            "1304/1304 [==============================] - 43s 33ms/step - loss: 0.1338 - accuracy: 0.9363 - val_loss: 0.2789 - val_accuracy: 0.9071\n",
            "Epoch 23/100\n",
            "1304/1304 [==============================] - 43s 33ms/step - loss: 0.1294 - accuracy: 0.9423 - val_loss: 0.3140 - val_accuracy: 0.9054\n",
            "Epoch 24/100\n",
            "1304/1304 [==============================] - 43s 33ms/step - loss: 0.1225 - accuracy: 0.9446 - val_loss: 0.3044 - val_accuracy: 0.9135\n",
            "Epoch 25/100\n",
            "1304/1304 [==============================] - 44s 34ms/step - loss: 0.1145 - accuracy: 0.9488 - val_loss: 0.2752 - val_accuracy: 0.9119\n",
            "Epoch 26/100\n",
            "1304/1304 [==============================] - 44s 34ms/step - loss: 0.1267 - accuracy: 0.9423 - val_loss: 0.2730 - val_accuracy: 0.9183\n",
            "Epoch 27/100\n",
            "1304/1304 [==============================] - 44s 34ms/step - loss: 0.1302 - accuracy: 0.9433 - val_loss: 0.3007 - val_accuracy: 0.9087\n",
            "Epoch 28/100\n",
            "1304/1304 [==============================] - 44s 34ms/step - loss: 0.1316 - accuracy: 0.9396 - val_loss: 0.2829 - val_accuracy: 0.9119\n",
            "Epoch 29/100\n",
            "1304/1304 [==============================] - 44s 34ms/step - loss: 0.1032 - accuracy: 0.9511 - val_loss: 0.4963 - val_accuracy: 0.8638\n",
            "Epoch 30/100\n",
            "1304/1304 [==============================] - 44s 34ms/step - loss: 0.1177 - accuracy: 0.9457 - val_loss: 0.3165 - val_accuracy: 0.9119\n",
            "Epoch 31/100\n",
            "1304/1304 [==============================] - 44s 34ms/step - loss: 0.1199 - accuracy: 0.9475 - val_loss: 0.2395 - val_accuracy: 0.9103\n",
            "Epoch 32/100\n",
            "1304/1304 [==============================] - 44s 34ms/step - loss: 0.1005 - accuracy: 0.9519 - val_loss: 0.2662 - val_accuracy: 0.9199\n",
            "Epoch 33/100\n",
            "1304/1304 [==============================] - 44s 34ms/step - loss: 0.1127 - accuracy: 0.9521 - val_loss: 0.2169 - val_accuracy: 0.9054\n",
            "Epoch 34/100\n",
            "1304/1304 [==============================] - 44s 34ms/step - loss: 0.0989 - accuracy: 0.9536 - val_loss: 0.2840 - val_accuracy: 0.9215\n",
            "Epoch 35/100\n",
            "1304/1304 [==============================] - 44s 34ms/step - loss: 0.1009 - accuracy: 0.9540 - val_loss: 0.2968 - val_accuracy: 0.9247\n",
            "Epoch 36/100\n",
            "1304/1304 [==============================] - 43s 33ms/step - loss: 0.0884 - accuracy: 0.9588 - val_loss: 0.2983 - val_accuracy: 0.9247\n",
            "Epoch 37/100\n",
            "1304/1304 [==============================] - 43s 33ms/step - loss: 0.0948 - accuracy: 0.9565 - val_loss: 0.2848 - val_accuracy: 0.9247\n",
            "Epoch 38/100\n",
            "1304/1304 [==============================] - 43s 33ms/step - loss: 0.1079 - accuracy: 0.9502 - val_loss: 0.2149 - val_accuracy: 0.9263\n",
            "Epoch 39/100\n",
            "1304/1304 [==============================] - 43s 33ms/step - loss: 0.0913 - accuracy: 0.9561 - val_loss: 0.4123 - val_accuracy: 0.8862\n",
            "Epoch 40/100\n",
            "1304/1304 [==============================] - 43s 33ms/step - loss: 0.0980 - accuracy: 0.9544 - val_loss: 0.2811 - val_accuracy: 0.9215\n",
            "Epoch 41/100\n",
            "1304/1304 [==============================] - 43s 33ms/step - loss: 0.0842 - accuracy: 0.9590 - val_loss: 0.2331 - val_accuracy: 0.9215\n",
            "Epoch 42/100\n",
            "1304/1304 [==============================] - 43s 33ms/step - loss: 0.0952 - accuracy: 0.9584 - val_loss: 0.2579 - val_accuracy: 0.8990\n",
            "Epoch 43/100\n",
            "1304/1304 [==============================] - 43s 33ms/step - loss: 0.0954 - accuracy: 0.9540 - val_loss: 0.3485 - val_accuracy: 0.8814\n",
            "Epoch 44/100\n",
            "1304/1304 [==============================] - 43s 33ms/step - loss: 0.0834 - accuracy: 0.9597 - val_loss: 0.4004 - val_accuracy: 0.8958\n",
            "Epoch 45/100\n",
            "1304/1304 [==============================] - 43s 33ms/step - loss: 0.0896 - accuracy: 0.9588 - val_loss: 0.2442 - val_accuracy: 0.9135\n",
            "Epoch 46/100\n",
            "1304/1304 [==============================] - 43s 33ms/step - loss: 0.0782 - accuracy: 0.9640 - val_loss: 0.3777 - val_accuracy: 0.9135\n",
            "Epoch 47/100\n",
            "1304/1304 [==============================] - 43s 33ms/step - loss: 0.0919 - accuracy: 0.9561 - val_loss: 0.3027 - val_accuracy: 0.9135\n",
            "Epoch 48/100\n",
            "1304/1304 [==============================] - 43s 33ms/step - loss: 0.0791 - accuracy: 0.9632 - val_loss: 0.3532 - val_accuracy: 0.9183\n",
            "Epoch 49/100\n",
            "1304/1304 [==============================] - 43s 33ms/step - loss: 0.0816 - accuracy: 0.9615 - val_loss: 0.3564 - val_accuracy: 0.9071\n",
            "Epoch 50/100\n",
            "1304/1304 [==============================] - 43s 33ms/step - loss: 0.0835 - accuracy: 0.9609 - val_loss: 0.3084 - val_accuracy: 0.9183\n",
            "Epoch 51/100\n",
            "1304/1304 [==============================] - 44s 33ms/step - loss: 0.0803 - accuracy: 0.9659 - val_loss: 0.3232 - val_accuracy: 0.9119\n"
          ]
        }
      ],
      "source": [
        "callback = EarlyStopping(monitor = 'loss', patience = 5)\n",
        "history = model.fit(datagenerator.flow(X_train,y_train, batch_size = 4), validation_data=(X_test, y_test), epochs = 100, verbose = 1, callbacks=[callback], class_weight={0:6.0, 1:0.5})"
      ]
    },
    {
      "cell_type": "code",
      "execution_count": 13,
      "metadata": {
        "colab": {
          "base_uri": "https://localhost:8080/"
        },
        "id": "TgZa_JadReOz",
        "outputId": "a3542c5f-2f62-4f05-849e-07edef13ebb6"
      },
      "outputs": [
        {
          "name": "stdout",
          "output_type": "stream",
          "text": [
            "20/20 [==============================] - 1s 29ms/step - loss: 0.3232 - accuracy: 0.9119\n",
            "Test Accuracy: 91.19%\n"
          ]
        }
      ],
      "source": [
        "print(\"Test Accuracy: {0:.2f}%\".format(model.evaluate(X_test,y_test)[1]*100))"
      ]
    },
    {
      "cell_type": "code",
      "execution_count": 14,
      "metadata": {
        "colab": {
          "base_uri": "https://localhost:8080/",
          "height": 279
        },
        "id": "v0R8EhHjReOz",
        "outputId": "554b0f20-a968-4f95-fa65-9424815f3fcd"
      },
      "outputs": [
        {
          "data": {
            "image/png": "[encoded data removed]",
            "text/plain": [
              "<Figure size 432x288 with 1 Axes>"
            ]
          },
          "metadata": {
            "needs_background": "light"
          },
          "output_type": "display_data"
        }
      ],
      "source": [
        "train_acc = history.history['accuracy']\n",
        "val_acc = history.history['val_accuracy']\n",
        "plt.plot(train_acc,label = \"Training_acc\")\n",
        "plt.plot(val_acc,label = 'Validation_acc')\n",
        "plt.legend()\n",
        "plt.xlabel('Epochs')\n",
        "plt.ylabel('Accuracy')\n",
        "plt.show()"
      ]
    },
    {
      "cell_type": "code",
      "execution_count": 15,
      "metadata": {
        "colab": {
          "base_uri": "https://localhost:8080/",
          "height": 279
        },
        "id": "Uoe_29fFReO0",
        "outputId": "5c2f6855-c9d0-40f5-e752-617fdb69c42f"
      },
      "outputs": [
        {
          "data": {
            "image/png": "[encoded data removed]",
            "text/plain": [
              "<Figure size 432x288 with 1 Axes>"
            ]
          },
          "metadata": {
            "needs_background": "light"
          },
          "output_type": "display_data"
        }
      ],
      "source": [
        "train_loss = history.history['loss']\n",
        "val_loss = history.history['val_loss']\n",
        "plt.plot(train_loss,label = 'Training_loss')\n",
        "plt.plot(val_loss,label = 'Validation_loss')\n",
        "plt.legend()\n",
        "plt.xlabel('Epochs')\n",
        "plt.ylabel('Loss')\n",
        "plt.show()"
      ]
    },
    {
      "cell_type": "code",
      "execution_count": 16,
      "metadata": {
        "colab": {
          "base_uri": "https://localhost:8080/",
          "height": 513
        },
        "id": "jK74TxKNReO0",
        "outputId": "f55b695c-f98a-48a4-ef04-61dfcadce31a"
      },
      "outputs": [
        {
          "data": {
            "image/png": "[encoded data removed]",
            "text/plain": [
              "<Figure size 576x576 with 2 Axes>"
            ]
          },
          "metadata": {
            "needs_background": "light"
          },
          "output_type": "display_data"
        }
      ],
      "source": [
        "Y_pred = model.predict(X_val)\n",
        "Y_pred_classes = np.argmax(Y_pred, axis = 1) \n",
        "Y_true = np.argmax(y_val, axis = 1) \n",
        "confusion_mtx = confusion_matrix(Y_true, Y_pred_classes) \n",
        "f,ax = plt.subplots(figsize = (8, 8))\n",
        "sns.heatmap(confusion_mtx, annot = True, linewidths = 0.01,cmap = \"Blues\", linecolor = \"gray\", fmt= '.1f', ax = ax)\n",
        "plt.xlabel(\"Predicted Label\")\n",
        "plt.ylabel(\"True Label\")\n",
        "plt.title(\"Confusion Matrix\")\n",
        "plt.show()"
      ]
    },
    {
      "cell_type": "code",
      "execution_count": 17,
      "metadata": {
        "colab": {
          "base_uri": "https://localhost:8080/",
          "height": 513
        },
        "id": "KKk5mZaRReO1",
        "outputId": "6f094b7f-7d81-4b7c-b03b-6ac718a10a63"
      },
      "outputs": [
        {
          "data": {
            "image/png": "[encoded data removed]",
            "text/plain": [
              "<Figure size 576x576 with 2 Axes>"
            ]
          },
          "metadata": {
            "needs_background": "light"
          },
          "output_type": "display_data"
        }
      ],
      "source": [
        "Y_pred = model.predict(X_test)\n",
        "Y_pred_classes = np.argmax(Y_pred,axis = 1) \n",
        "Y_true = np.argmax(y_test,axis = 1) \n",
        "confusion_mtx = confusion_matrix(Y_true, Y_pred_classes) \n",
        "f,ax = plt.subplots(figsize = (8, 8))\n",
        "sns.heatmap(confusion_mtx, annot = True, linewidths = 0.01, cmap = \"Blues\", linecolor = \"gray\", fmt= '.1f',ax = ax)\n",
        "plt.xlabel(\"Predicted Label\")\n",
        "plt.ylabel(\"True Label\")\n",
        "plt.title(\"Confusion Matrix\")\n",
        "plt.show()"
      ]
    }
  ],
  "metadata": {
    "accelerator": "GPU",
    "colab": {
      "name": "classify_x-ray_images.ipynb",
      "provenance": []
    },
    "interpreter": {
      "hash": "aee8b7b246df8f9039afb4144a1f6fd8d2ca17a180786b69acc140d282b71a49"
    },
    "kernelspec": {
      "display_name": "Python 3.9.7 64-bit",
      "language": "python",
      "name": "python3"
    },
    "language_info": {
      "codemirror_mode": {
        "name": "ipython",
        "version": 3
      },
      "file_extension": ".py",
      "mimetype": "text/x-python",
      "name": "python",
      "nbconvert_exporter": "python",
      "pygments_lexer": "ipython3",
      "version": "3.9.7"
    }
  },
  "nbformat": 4,
  "nbformat_minor": 0
}
